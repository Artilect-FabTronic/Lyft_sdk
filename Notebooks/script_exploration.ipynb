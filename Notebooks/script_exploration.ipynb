{
 "cells": [
  {
   "cell_type": "markdown",
   "metadata": {},
   "source": [
    "# Differences entre Lyft et Nuscenes, 2 concurrents sur la voiture autonome\n",
    "\n"
   ]
  },
  {
   "cell_type": "code",
   "execution_count": 2,
   "metadata": {},
   "outputs": [
    {
     "name": "stdout",
     "output_type": "stream",
     "text": [
      "Help on package lyft_dataset_sdk:\n",
      "\n",
      "NAME\n",
      "    lyft_dataset_sdk\n",
      "\n",
      "PACKAGE CONTENTS\n",
      "    eval (package)\n",
      "    lyftdataset\n",
      "    utils (package)\n",
      "\n",
      "FILE\n",
      "    /home/ced/env_kaggle/lib/python3.7/site-packages/lyft_dataset_sdk/__init__.py\n",
      "\n",
      "\n"
     ]
    }
   ],
   "source": [
    "# pour que ca marche ; pip install lyft_dataset_sdk, ( sous linux )\n",
    "help(lyft_dataset_sdk)"
   ]
  },
  {
   "cell_type": "raw",
   "metadata": {},
   "source": [
    "on va essayer de transformer un fichier natif Nuscenes vers lyft_sdk\n"
   ]
  },
  {
   "cell_type": "code",
   "execution_count": 6,
   "metadata": {},
   "outputs": [
    {
     "name": "stdout",
     "output_type": "stream",
     "text": [
      "Help on package nuscenes:\n",
      "\n",
      "NAME\n",
      "    nuscenes\n",
      "\n",
      "PACKAGE CONTENTS\n",
      "    eval (package)\n",
      "    nuscenes\n",
      "    scripts (package)\n",
      "    tests (package)\n",
      "    utils (package)\n",
      "\n",
      "FILE\n",
      "    /home/ced/env_kaggle/lib/python3.7/site-packages/nuscenes/__init__.py\n",
      "\n",
      "\n"
     ]
    }
   ],
   "source": [
    "# pip install nuscenes-devkit, ( sous linux )\n",
    "import nuscenes\n",
    "help(nuscenes)"
   ]
  },
  {
   "cell_type": "markdown",
   "metadata": {},
   "source": [
    " on voit que la libraire nuscenes contient plus de fichiers que lyft_dataset. scripts et test sonts peut être utiles. On y retournera plus tard."
   ]
  },
  {
   "cell_type": "code",
   "execution_count": 3,
   "metadata": {},
   "outputs": [],
   "source": [
    "\n",
    "from nuscenes import NuScenes\n",
    "from nuscenes.utils.data_classes import LidarPointCloud\n",
    "from nuscenes.utils.geometry_utils import view_points\n"
   ]
  },
  {
   "cell_type": "code",
   "execution_count": 4,
   "metadata": {},
   "outputs": [],
   "source": [
    "from lyft_dataset_sdk import lyftdataset\n",
    "from lyft_dataset_sdk.utils.data_classes import LidarPointCloud\n",
    "from lyft_dataset_sdk.utils.geometry_utils import view_points"
   ]
  },
  {
   "cell_type": "raw",
   "metadata": {},
   "source": [
    "Il y a une correspondance exacte entre les librairies, on change de noms mais leur role sont les mêmes.\n",
    "Il y a un (seul) ajout dans la classe lyftdataset-lyftdataset.py,L:543\n",
    "def render_sample_3d_interactive() \n"
   ]
  },
  {
   "cell_type": "markdown",
   "metadata": {},
   "source": [
    "le fichier lyftdataset.py contient 2 classes:"
   ]
  },
  {
   "cell_type": "code",
   "execution_count": 9,
   "metadata": {},
   "outputs": [],
   "source": [
    "from lyft_dataset_sdk.lyftdataset import LyftDatasetExplorer\n",
    "from lyft_dataset_sdk.lyftdataset import LyftDataset"
   ]
  },
  {
   "cell_type": "markdown",
   "metadata": {},
   "source": [
    "N'oubliez pas de demander l'aide quand vous vous posez des questions sur une classe. Pensez à toujours documenter quand vous créez un fichier ou une classe, C'est reciproque!"
   ]
  },
  {
   "cell_type": "code",
   "execution_count": 12,
   "metadata": {},
   "outputs": [
    {
     "name": "stdout",
     "output_type": "stream",
     "text": [
      "Help on package lyft_dataset_sdk:\n",
      "\n",
      "NAME\n",
      "    lyft_dataset_sdk\n",
      "\n",
      "PACKAGE CONTENTS\n",
      "    eval (package)\n",
      "    lyftdataset\n",
      "    utils (package)\n",
      "\n",
      "FILE\n",
      "    /home/ced/env_kaggle/lib/python3.7/site-packages/lyft_dataset_sdk/__init__.py\n",
      "\n",
      "\n"
     ]
    }
   ],
   "source": [
    "#help(lyft_dataset_sdk.lyftdataset.LyftDataset)\n",
    "#help(lyft_dataset_sdk.lyftdataset.LyftDatasetExplorer)"
   ]
  },
  {
   "cell_type": "markdown",
   "metadata": {},
   "source": [
    "#  Le script export_pointcloud_as_object.py\n",
    "J'ai trouvé ce script dans Nuscene. Il permet d'ouvrir sur un ficher compatible Meshlab des données recceuillies par un LIDAR."
   ]
  },
  {
   "cell_type": "code",
   "execution_count": 13,
   "metadata": {},
   "outputs": [],
   "source": [
    "import nuscenes.scripts.export_pointclouds_as_obj"
   ]
  },
  {
   "cell_type": "markdown",
   "metadata": {},
   "source": [
    "Je vais éssayer de l'adapter pour lyft..."
   ]
  },
  {
   "cell_type": "code",
   "execution_count": 14,
   "metadata": {},
   "outputs": [],
   "source": [
    "import lyft_dataset_sdk.scripts.export_pointclouds_as_obj \n",
    "#en travaux..."
   ]
  }
 ],
 "metadata": {
  "kernelspec": {
   "display_name": "Python 3",
   "language": "python",
   "name": "python3"
  },
  "language_info": {
   "codemirror_mode": {
    "name": "ipython",
    "version": 3
   },
   "file_extension": ".py",
   "mimetype": "text/x-python",
   "name": "python",
   "nbconvert_exporter": "python",
   "pygments_lexer": "ipython3",
   "version": "3.7.3"
  }
 },
 "nbformat": 4,
 "nbformat_minor": 2
}
