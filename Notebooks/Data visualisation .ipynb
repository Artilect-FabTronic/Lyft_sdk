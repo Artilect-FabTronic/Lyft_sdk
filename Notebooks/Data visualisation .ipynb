{
 "cells": [
  {
   "cell_type": "markdown",
   "metadata": {},
   "source": [
    "# Introduction"
   ]
  },
  {
   "cell_type": "markdown",
   "metadata": {},
   "source": [
    "<center><img src=\"https://i.imgur.com/8dUga6i.jpg\" width=\"500px\"></center> "
   ]
  },
  {
   "cell_type": "markdown",
   "metadata": {},
   "source": [
    "In this kernel, I will be explaining the meaning and intuition behind each component in the dataset, including the images, LiDAR, and pointclouds. After diving into the theory behind these concepts, I will show how this dataset can be packaged into a compact format which makes it easier to query information from the dataset. And finally, I will show how to visualize and explore this data using plots and graphs in *matplotlib*. "
   ]
  },
  {
   "cell_type": "markdown",
   "metadata": {},
   "source": [
    "# Acknowledgements"
   ]
  },
  {
   "cell_type": "markdown",
   "metadata": {},
   "source": [
    "* [NuScences DevKit ~ by Lyft](https://github.com/lyft/nuscenes-devkit)\n",
    "* [EDA - 3D Object Detection Challenge ~ by beluga](https://www.kaggle.com/gaborfodor/eda-3d-object-detection-challenge)\n",
    "* [Lyft: EDA, Animations, generating CSVs ~ by xhulu](https://www.kaggle.com/xhlulu/lyft-eda-animations-generating-csvs)\n",
    "* [Lidar - Wikipedia](https://en.wikipedia.org/wiki/Lidar)"
   ]
  },
  {
   "cell_type": "markdown",
   "metadata": {},
   "source": [
    "<html><font size=3 color='red'>If you find this kernel interesting, please drop an upvote. It motivates me to produce more quality content :)</font></html>"
   ]
  },
  {
   "cell_type": "markdown",
   "metadata": {},
   "source": [
    "### A self-driving car in action!"
   ]
  },
  {
   "cell_type": "markdown",
   "metadata": {},
   "source": [
    "Before we dive into the technical details of this kernel, let us watch an interesting video of a self-driving car in action!"
   ]
  },
  {
   "cell_type": "code",
   "execution_count": 1,
   "metadata": {
    "_kg_hide-input": true
   },
   "outputs": [
    {
     "data": {
      "text/html": [
       "<center><iframe width=\"700\" height=\"400\" src=\"https://www.youtube.com/embed/tlThdr3O5Qo?rel=0&amp;controls=0&amp;showinfo=0\" frameborder=\"0\" allowfullscreen></iframe></center>"
      ],
      "text/plain": [
       "<IPython.core.display.HTML object>"
      ]
     },
     "execution_count": 1,
     "metadata": {},
     "output_type": "execute_result"
    }
   ],
   "source": [
    "from IPython.display import HTML\n",
    "HTML('<center><iframe width=\"700\" height=\"400\" src=\"https://www.youtube.com/embed/tlThdr3O5Qo?rel=0&amp;controls=0&amp;showinfo=0\" frameborder=\"0\" allowfullscreen></iframe></center>')"
   ]
  },
  {
   "cell_type": "markdown",
   "metadata": {},
   "source": [
    "It can be seen in the video that the car is able to effortlessly take turns, change lanes, stop at red lights, etc. This is possible because the car is able to accurately recognize objects in 3D space using information from it's sensors, such as image and LiDAR data. So, I will now look at what these forms of data mean theoretically, and then, I will visualize this information later in the kernel."
   ]
  },
  {
   "cell_type": "markdown",
   "metadata": {},
   "source": [
    "# The dataset structure"
   ]
  },
  {
   "cell_type": "markdown",
   "metadata": {},
   "source": [
    "1. `scene` - Consists of 25-45 seconds of a car's journey in a given environment. Each scence is composed of many samples.\n",
    "2. `sample` - A snapshot of a scence at a particular instance in time. Each sample is annoted with the objects present.\n",
    "3. `sample_data` - Contains the data collected from a particular sensor on the car.\n",
    "4. `sample_annotation` - An annotated instance of an object within our interest.\n",
    "5. `instance` - An enumeration of all object instance we observed.\n",
    "6. `category` - Taxonomy of object categories (e.g. vehicle, human). \n",
    "7. `attribute` - Property of an instance that can change while the category remains the same.\n",
    "8. `visibility` - (currently not used)\n",
    "9. `sensor` - A specific sensor type.\n",
    "10. `calibrated sensor` - Definition of a particular sensor as calibrated on a particular vehicle.\n",
    "11. `ego_pose` - Ego vehicle poses at a particular timestamp.\n",
    "12. `log` - Log information from which the data was extracted.\n",
    "13. `map` - Map data that is stored as binary semantic masks from a top-down view."
   ]
  },
  {
   "cell_type": "markdown",
   "metadata": {},
   "source": [
    "Each snapshot in the data consists of two forms of information: **image data and LiDAR data**."
   ]
  },
  {
   "cell_type": "markdown",
   "metadata": {},
   "source": [
    "The image data is in the usual *.jpeg* format, which is fairly simple to understand. Each image simply consists of three color channels: Red (R), Blue (B), and Green (G) that form the RGB color image format. These color channels superimpose to form the final colored image. These images can therefore be stored in a four-dimensional tensor with dimensions as: **(batch_size, channels, width, height)**."
   ]
  },
  {
   "cell_type": "markdown",
   "metadata": {},
   "source": [
    "Now, I will move on to the LiDAR data, which fewer people might be familiar with. I will explain how LiDAR data is collected and stored, and then I will talk about the intuition behind this data format."
   ]
  },
  {
   "cell_type": "markdown",
   "metadata": {},
   "source": [
    "# What is LiDAR?"
   ]
  },
  {
   "cell_type": "markdown",
   "metadata": {},
   "source": [
    "LiDAR (Light Detection and Ranging) is a method used to generate accurate 3D representations of the surroundings, and it uses laser light to achieve this. Basically, the 3D target is illuminated with a laser light (a focused, directed beam of light) and the reflected light is collected by sensors. The time required for the light to reflect back to the sensor is calculated. \n",
    "\n",
    "**Different sensors collect light from different parts of the object, and the times recorded by the sensors would be different. This difference in time calculated by the sensors can be used to calculate the depth of the object. This depth information combined with the 2D represenation of the image provides an accurate 3D representation of the object. This process is similar to actual human vision. Two eyes make observations in 2D and these two pieces of information are combined to form a 3D map (depth perception). This is how humans sense the world around us**.\n",
    "\n",
    "This technology is used to create 3D representations in many real world scenarios. For example, it is used in farms to help sow seeds and remove weeds. A moving robot uses LiDAR to to create a 3D map of its surroundings and using this map, it avoids obstacles and completes its tasks. This technology is also used in archaeology. LiDAR is used to create 3D renderings of 2D scans of artifacts. This gives an accurate idea of the 3D shape of the artifact when the artifact cannot be excavated for whatever reason. Finally, LiDAR can also be used to render high quality 3D maps of ocean floors and other inaccesible terrains, making it very useful to geologists and oceanographers. Below is a 3D map of an ocean floor generated using LiDAR:"
   ]
  },
  {
   "cell_type": "markdown",
   "metadata": {},
   "source": [
    "<center><img src=\"https://i.imgur.com/yG3CewG.jpg\" width=\"500px\"></center>"
   ]
  },
  {
   "cell_type": "markdown",
   "metadata": {},
   "source": [
    "And, of course, self-driving cars use this technology to identify objects around them in 3D dimensions, along with estimating the velocities and orientations of these objects. This comprehensive 3D map provides the car with detailed information so that it can navigate even in complex environments. Below is a video featuring a drone equipped with LiDAR. It automatically creates a 3D map of the world around it using the process mentioned above."
   ]
  },
  {
   "cell_type": "code",
   "execution_count": 2,
   "metadata": {
    "_kg_hide-input": true
   },
   "outputs": [
    {
     "data": {
      "text/html": [
       "<center><iframe width=\"700\" height=\"400\" src=\"https://www.youtube.com/embed/x7De3tCb3_A?rel=0&amp;controls=0&amp;showinfo=0\" frameborder=\"0\" allowfullscreen></iframe></center>"
      ],
      "text/plain": [
       "<IPython.core.display.HTML object>"
      ]
     },
     "execution_count": 2,
     "metadata": {},
     "output_type": "execute_result"
    }
   ],
   "source": [
    "HTML('<center><iframe width=\"700\" height=\"400\" src=\"https://www.youtube.com/embed/x7De3tCb3_A?rel=0&amp;controls=0&amp;showinfo=0\" frameborder=\"0\" allowfullscreen></iframe></center>')"
   ]
  },
  {
   "cell_type": "markdown",
   "metadata": {},
   "source": [
    "# How does LiDAR work?"
   ]
  },
  {
   "cell_type": "markdown",
   "metadata": {},
   "source": [
    "<img src=\"https://i.imgur.com/Frl3hgk.gif\" width=\"300\" height=\"300\" align=\"center\"/>"
   ]
  },
  {
   "cell_type": "markdown",
   "metadata": {},
   "source": [
    "The above GIF roughly demonstrates how LiDAR works. Basically, laser beams are shot in all directions by a laser. The laser beams reflect off the objects in their path and the reflected beams are collected by a sensor. Now, a special device called a **Flash LiDAR Camera** is used to create 3D maps using the information from these sensors."
   ]
  },
  {
   "cell_type": "markdown",
   "metadata": {},
   "source": [
    "### Flash LiDAR Camera"
   ]
  },
  {
   "cell_type": "markdown",
   "metadata": {},
   "source": [
    "<img src=\"https://i.imgur.com/C3zUR7X.jpg\" width=\"250\" height=\"250\" align=\"center\"/>"
   ]
  },
  {
   "cell_type": "markdown",
   "metadata": {},
   "source": [
    "The device featured in the image above is called a Flash LiDAR Camera. The focal plane of a Flash LiDAR camera has rows and columns of pixels with ample \"depth\" and \"intensity\" to create 3D landscape models. Each pixel records the time it takes each laser pulse to hit the target and return to the sensor, as well as the depth, location, and reflective intensity of the object being contacted by the laser pulse.\n",
    "\n",
    "The Flash LiDAR uses a single light source that illuminates the field of view in a single pulse. Just like a camera that takes pictures of distance, instead of colors.\n",
    "\n",
    "The onboard source of illumination makes Flash lidar an active sensor. The signal that is returned is processed by embedded algorithms to produce a nearly instantaneous 3D rendering of objects and terrain features within the field of view of the sensor. The laser pulse repetition frequency is sufficient for generating 3D videos with high resolution and accuracy. The high frame rate of the sensor makes it a useful tool for a variety of applications that benefit from real-time visualization, such as autonomous vehicle driving. By immediately returning a 3D elevation mesh of target landscapes, a flash sensor can be used by an autonomous vehicle to make decisions regarding speed adjustment, braking, steering, etc.\n",
    "\n",
    "This type of camera is attached to the top of autonomous cars, and these cars use this to navigate while driving."
   ]
  },
  {
   "cell_type": "markdown",
   "metadata": {},
   "source": [
    "Now, since it is clear what LiDAR is and how it works, we can get right to visualizing the dataset."
   ]
  },
  {
   "cell_type": "markdown",
   "metadata": {},
   "source": [
    "# Visualizing the data"
   ]
  },
  {
   "cell_type": "markdown",
   "metadata": {},
   "source": [
    "### Install *lyft_dataset_sdk* and import the necessary libraries"
   ]
  },
  {
   "cell_type": "markdown",
   "metadata": {},
   "source": [
    "We will need the *lyft_dataset_sdk* library because it will help us visualize the image and LiDAR data easily. Only a simple *pip install* command is required. I will also use install the *chart_studio* library to generate interactive plots."
   ]
  },
  {
   "cell_type": "code",
   "execution_count": 3,
   "metadata": {
    "_kg_hide-output": true
   },
   "outputs": [
    {
     "name": "stdout",
     "output_type": "stream",
     "text": [
      "Requirement already satisfied: lyft_dataset_sdk in /home/ced/env_kaggle/lib/python3.7/site-packages (0.0.8)\n",
      "Requirement already satisfied: tqdm>=4.25.0 in /home/ced/env_kaggle/lib/python3.7/site-packages (from lyft_dataset_sdk) (4.36.1)\n",
      "Requirement already satisfied: Shapely>=1.6.4.post2 in /home/ced/env_kaggle/lib/python3.7/site-packages (from lyft_dataset_sdk) (1.6.4.post2)\n",
      "Requirement already satisfied: fire in /home/ced/env_kaggle/lib/python3.7/site-packages (from lyft_dataset_sdk) (0.2.1)\n",
      "Requirement already satisfied: pandas in /home/ced/env_kaggle/lib/python3.7/site-packages (from lyft_dataset_sdk) (0.25.1)\n",
      "Requirement already satisfied: plotly in /home/ced/env_kaggle/lib/python3.7/site-packages (from lyft_dataset_sdk) (4.2.0)\n",
      "Requirement already satisfied: scipy>=1.1.0 in /home/ced/env_kaggle/lib/python3.7/site-packages (from lyft_dataset_sdk) (1.3.1)\n",
      "Requirement already satisfied: opencv-python>=3.4.2.17 in /home/ced/env_kaggle/lib/python3.7/site-packages (from lyft_dataset_sdk) (4.1.1.26)\n",
      "Requirement already satisfied: pytest in /home/ced/env_kaggle/lib/python3.7/site-packages (from lyft_dataset_sdk) (5.2.1)\n",
      "Requirement already satisfied: numpy>=1.14.5 in /home/ced/env_kaggle/lib/python3.7/site-packages (from lyft_dataset_sdk) (1.17.2)\n",
      "Requirement already satisfied: Pillow>=5.2.0 in /home/ced/env_kaggle/lib/python3.7/site-packages (from lyft_dataset_sdk) (6.2.0)\n",
      "Requirement already satisfied: matplotlib in /home/ced/env_kaggle/lib/python3.7/site-packages (from lyft_dataset_sdk) (3.1.1)\n",
      "Requirement already satisfied: scikit-learn>=0.19.2 in /home/ced/env_kaggle/lib/python3.7/site-packages (from lyft_dataset_sdk) (0.21.3)\n",
      "Requirement already satisfied: pyquaternion>=0.9.5 in /home/ced/env_kaggle/lib/python3.7/site-packages (from lyft_dataset_sdk) (0.9.5)\n",
      "Requirement already satisfied: black in /home/ced/env_kaggle/lib/python3.7/site-packages (from lyft_dataset_sdk) (19.3b0)\n",
      "Requirement already satisfied: flake8 in /home/ced/env_kaggle/lib/python3.7/site-packages (from lyft_dataset_sdk) (3.7.8)\n",
      "Requirement already satisfied: cachetools>=3.1.0 in /home/ced/env_kaggle/lib/python3.7/site-packages (from lyft_dataset_sdk) (3.1.1)\n",
      "Requirement already satisfied: six in /home/ced/env_kaggle/lib/python3.7/site-packages (from fire->lyft_dataset_sdk) (1.12.0)\n",
      "Requirement already satisfied: termcolor in /home/ced/env_kaggle/lib/python3.7/site-packages (from fire->lyft_dataset_sdk) (1.1.0)\n",
      "Requirement already satisfied: pytz>=2017.2 in /home/ced/env_kaggle/lib/python3.7/site-packages (from pandas->lyft_dataset_sdk) (2019.3)\n",
      "Requirement already satisfied: python-dateutil>=2.6.1 in /home/ced/env_kaggle/lib/python3.7/site-packages (from pandas->lyft_dataset_sdk) (2.8.0)\n",
      "Requirement already satisfied: retrying>=1.3.3 in /home/ced/env_kaggle/lib/python3.7/site-packages (from plotly->lyft_dataset_sdk) (1.3.3)\n",
      "Requirement already satisfied: py>=1.5.0 in /home/ced/env_kaggle/lib/python3.7/site-packages (from pytest->lyft_dataset_sdk) (1.8.0)\n",
      "Requirement already satisfied: attrs>=17.4.0 in /home/ced/env_kaggle/lib/python3.7/site-packages (from pytest->lyft_dataset_sdk) (19.3.0)\n",
      "Requirement already satisfied: importlib-metadata>=0.12; python_version < \"3.8\" in /home/ced/env_kaggle/lib/python3.7/site-packages (from pytest->lyft_dataset_sdk) (0.23)\n",
      "Requirement already satisfied: atomicwrites>=1.0 in /home/ced/env_kaggle/lib/python3.7/site-packages (from pytest->lyft_dataset_sdk) (1.3.0)\n",
      "Requirement already satisfied: wcwidth in /home/ced/env_kaggle/lib/python3.7/site-packages (from pytest->lyft_dataset_sdk) (0.1.7)\n",
      "Requirement already satisfied: pluggy<1.0,>=0.12 in /home/ced/env_kaggle/lib/python3.7/site-packages (from pytest->lyft_dataset_sdk) (0.13.0)\n",
      "Requirement already satisfied: more-itertools>=4.0.0 in /home/ced/env_kaggle/lib/python3.7/site-packages (from pytest->lyft_dataset_sdk) (7.2.0)\n",
      "Requirement already satisfied: packaging in /home/ced/env_kaggle/lib/python3.7/site-packages (from pytest->lyft_dataset_sdk) (19.2)\n",
      "Requirement already satisfied: kiwisolver>=1.0.1 in /home/ced/env_kaggle/lib/python3.7/site-packages (from matplotlib->lyft_dataset_sdk) (1.1.0)\n",
      "Requirement already satisfied: cycler>=0.10 in /home/ced/env_kaggle/lib/python3.7/site-packages (from matplotlib->lyft_dataset_sdk) (0.10.0)\n",
      "Requirement already satisfied: pyparsing!=2.0.4,!=2.1.2,!=2.1.6,>=2.0.1 in /home/ced/env_kaggle/lib/python3.7/site-packages (from matplotlib->lyft_dataset_sdk) (2.4.2)\n",
      "Requirement already satisfied: joblib>=0.11 in /home/ced/env_kaggle/lib/python3.7/site-packages (from scikit-learn>=0.19.2->lyft_dataset_sdk) (0.14.0)\n",
      "Requirement already satisfied: toml>=0.9.4 in /home/ced/env_kaggle/lib/python3.7/site-packages (from black->lyft_dataset_sdk) (0.10.0)\n",
      "Requirement already satisfied: appdirs in /home/ced/env_kaggle/lib/python3.7/site-packages (from black->lyft_dataset_sdk) (1.4.3)\n",
      "Requirement already satisfied: click>=6.5 in /home/ced/env_kaggle/lib/python3.7/site-packages (from black->lyft_dataset_sdk) (7.0)\n",
      "Requirement already satisfied: mccabe<0.7.0,>=0.6.0 in /home/ced/env_kaggle/lib/python3.7/site-packages (from flake8->lyft_dataset_sdk) (0.6.1)\n",
      "Requirement already satisfied: pyflakes<2.2.0,>=2.1.0 in /home/ced/env_kaggle/lib/python3.7/site-packages (from flake8->lyft_dataset_sdk) (2.1.1)\n",
      "Requirement already satisfied: pycodestyle<2.6.0,>=2.5.0 in /home/ced/env_kaggle/lib/python3.7/site-packages (from flake8->lyft_dataset_sdk) (2.5.0)\n",
      "Requirement already satisfied: entrypoints<0.4.0,>=0.3.0 in /home/ced/env_kaggle/lib/python3.7/site-packages (from flake8->lyft_dataset_sdk) (0.3)\n",
      "Requirement already satisfied: zipp>=0.5 in /home/ced/env_kaggle/lib/python3.7/site-packages (from importlib-metadata>=0.12; python_version < \"3.8\"->pytest->lyft_dataset_sdk) (0.6.0)\n",
      "Requirement already satisfied: setuptools in /home/ced/env_kaggle/lib/python3.7/site-packages (from kiwisolver>=1.0.1->matplotlib->lyft_dataset_sdk) (41.4.0)\n"
     ]
    }
   ],
   "source": [
    "!pip install lyft_dataset_sdk"
   ]
  },
  {
   "cell_type": "markdown",
   "metadata": {},
   "source": [
    "Now, I will import the other libraries necessary to carry out the exploration."
   ]
  },
  {
   "cell_type": "code",
   "execution_count": 13,
   "metadata": {},
   "outputs": [
    {
     "name": "stdout",
     "output_type": "stream",
     "text": [
      "Collecting scikit-image\n",
      "\u001b[?25l  Downloading https://files.pythonhosted.org/packages/26/38/69d8f8c9420e41c4e4d863c348f52065de42dc7b53fecd908f8626fa9726/scikit_image-0.16.1-cp37-cp37m-manylinux1_x86_64.whl (26.5MB)\n",
      "\u001b[K     |████████████████████████████████| 26.5MB 2.4MB/s eta 0:00:01    |█                               | 768kB 2.4MB/s eta 0:00:11     |███████████████████████████     | 22.4MB 2.4MB/s eta 0:00:02\n",
      "\u001b[?25hCollecting networkx>=2.0\n",
      "\u001b[?25l  Downloading https://files.pythonhosted.org/packages/41/8f/dd6a8e85946def36e4f2c69c84219af0fa5e832b018c970e92f2ad337e45/networkx-2.4-py3-none-any.whl (1.6MB)\n",
      "\u001b[K     |████████████████████████████████| 1.6MB 64.9MB/s eta 0:00:01\n",
      "\u001b[?25hRequirement already satisfied: pillow>=4.3.0 in /home/ced/env_kaggle/lib/python3.7/site-packages (from scikit-image) (6.2.0)\n",
      "Requirement already satisfied: scipy>=0.19.0 in /home/ced/env_kaggle/lib/python3.7/site-packages (from scikit-image) (1.3.1)\n",
      "Collecting PyWavelets>=0.4.0\n",
      "\u001b[?25l  Downloading https://files.pythonhosted.org/packages/62/bd/592c7242fdd1218a96431512e77265c50812315ef72570ace85e1cfae298/PyWavelets-1.1.1-cp37-cp37m-manylinux1_x86_64.whl (4.4MB)\n",
      "\u001b[K     |████████████████████████████████| 4.4MB 70.5MB/s eta 0:00:01\n",
      "\u001b[?25hCollecting imageio>=2.3.0\n",
      "\u001b[?25l  Downloading https://files.pythonhosted.org/packages/1a/de/f7f985018f462ceeffada7f6e609919fbcc934acd9301929cba14bc2c24a/imageio-2.6.1-py3-none-any.whl (3.3MB)\n",
      "\u001b[K     |████████████████████████████████| 3.3MB 66.6MB/s eta 0:00:01\n",
      "\u001b[?25hRequirement already satisfied: matplotlib!=3.0.0,>=2.0.0 in /home/ced/env_kaggle/lib/python3.7/site-packages (from scikit-image) (3.1.1)\n",
      "Requirement already satisfied: decorator>=4.3.0 in /home/ced/env_kaggle/lib/python3.7/site-packages (from networkx>=2.0->scikit-image) (4.4.0)\n",
      "Requirement already satisfied: numpy>=1.13.3 in /home/ced/env_kaggle/lib/python3.7/site-packages (from scipy>=0.19.0->scikit-image) (1.17.2)\n",
      "Requirement already satisfied: kiwisolver>=1.0.1 in /home/ced/env_kaggle/lib/python3.7/site-packages (from matplotlib!=3.0.0,>=2.0.0->scikit-image) (1.1.0)\n",
      "Requirement already satisfied: cycler>=0.10 in /home/ced/env_kaggle/lib/python3.7/site-packages (from matplotlib!=3.0.0,>=2.0.0->scikit-image) (0.10.0)\n",
      "Requirement already satisfied: pyparsing!=2.0.4,!=2.1.2,!=2.1.6,>=2.0.1 in /home/ced/env_kaggle/lib/python3.7/site-packages (from matplotlib!=3.0.0,>=2.0.0->scikit-image) (2.4.2)\n",
      "Requirement already satisfied: python-dateutil>=2.1 in /home/ced/env_kaggle/lib/python3.7/site-packages (from matplotlib!=3.0.0,>=2.0.0->scikit-image) (2.8.0)\n",
      "Requirement already satisfied: setuptools in /home/ced/env_kaggle/lib/python3.7/site-packages (from kiwisolver>=1.0.1->matplotlib!=3.0.0,>=2.0.0->scikit-image) (41.4.0)\n",
      "Requirement already satisfied: six in /home/ced/env_kaggle/lib/python3.7/site-packages (from cycler>=0.10->matplotlib!=3.0.0,>=2.0.0->scikit-image) (1.12.0)\n",
      "Installing collected packages: networkx, PyWavelets, imageio, scikit-image\n",
      "Successfully installed PyWavelets-1.1.1 imageio-2.6.1 networkx-2.4 scikit-image-0.16.1\n"
     ]
    }
   ],
   "source": [
    "#pip install plotly\n",
    "#!pip install scikit-image"
   ]
  },
  {
   "cell_type": "code",
   "execution_count": 32,
   "metadata": {
    "_cell_guid": "b1076dfc-b9ad-4769-8c92-a6c4dae69d19",
    "_uuid": "8f2839f25d086af736a60e9eeb907d3b93b6e0e5"
   },
   "outputs": [
    {
     "data": {
      "text/html": [
       "        <script type=\"text/javascript\">\n",
       "        window.PlotlyConfig = {MathJaxConfig: 'local'};\n",
       "        if (window.MathJax) {MathJax.Hub.Config({SVG: {font: \"STIX-Web\"}});}\n",
       "        if (typeof require !== 'undefined') {\n",
       "        require.undef(\"plotly\");\n",
       "        requirejs.config({\n",
       "            paths: {\n",
       "                'plotly': ['https://cdn.plot.ly/plotly-latest.min']\n",
       "            }\n",
       "        });\n",
       "        require(['plotly'], function(Plotly) {\n",
       "            window._Plotly = Plotly;\n",
       "        });\n",
       "        }\n",
       "        </script>\n",
       "        "
      ]
     },
     "metadata": {},
     "output_type": "display_data"
    }
   ],
   "source": [
    "\n",
    "import os\n",
    "import gc\n",
    "import numpy as np\n",
    "import pandas as pd\n",
    "\n",
    "import json\n",
    "import math\n",
    "import sys\n",
    "import time\n",
    "from datetime import datetime\n",
    "from typing import Tuple, List\n",
    "\n",
    "import cv2\n",
    "import matplotlib.pyplot as plt\n",
    "import sklearn.metrics\n",
    "from PIL import Image\n",
    "\n",
    "from matplotlib.axes import Axes\n",
    "from matplotlib import animation, rc\n",
    "import plotly.graph_objs as go\n",
    "import plotly.tools as tls\n",
    "from plotly.offline import plot, init_notebook_mode\n",
    "import plotly.figure_factory as ff\n",
    "\n",
    "init_notebook_mode(connected=True)\n",
    "\n",
    "import seaborn as sns\n",
    "from pyquaternion import Quaternion\n",
    "from tqdm import tqdm\n",
    "\n",
    "from lyft_dataset_sdk.utils.map_mask import MapMask\n",
    "from lyft_dataset_sdk.lyftdataset import LyftDataset\n",
    "from lyft_dataset_sdk.utils.geometry_utils import view_points, box_in_image, BoxVisibility\n",
    "from lyft_dataset_sdk.utils.geometry_utils import view_points, transform_matrix\n",
    "from pathlib import Path\n",
    "\n",
    "import struct\n",
    "from abc import ABC, abstractmethod\n",
    "from functools import reduce\n",
    "from typing import Tuple, List, Dict\n",
    "import copy"
   ]
  },
  {
   "cell_type": "markdown",
   "metadata": {},
   "source": [
    "### Define the path containing the dataset"
   ]
  },
  {
   "cell_type": "code",
   "execution_count": 33,
   "metadata": {},
   "outputs": [
    {
     "ename": "NameError",
     "evalue": "name 'lyft_dataset_sdk' is not defined",
     "output_type": "error",
     "traceback": [
      "\u001b[0;31m---------------------------------------------------------------------------\u001b[0m",
      "\u001b[0;31mNameError\u001b[0m                                 Traceback (most recent call last)",
      "\u001b[0;32m<ipython-input-33-5e60427630a0>\u001b[0m in \u001b[0;36m<module>\u001b[0;34m\u001b[0m\n\u001b[0;32m----> 1\u001b[0;31m \u001b[0mhelp\u001b[0m\u001b[0;34m(\u001b[0m\u001b[0mlyft_dataset_sdk\u001b[0m\u001b[0;34m)\u001b[0m\u001b[0;34m\u001b[0m\u001b[0;34m\u001b[0m\u001b[0m\n\u001b[0m",
      "\u001b[0;31mNameError\u001b[0m: name 'lyft_dataset_sdk' is not defined"
     ]
    }
   ],
   "source": [
    "help(lyft_dataset_sdk)"
   ]
  },
  {
   "cell_type": "code",
   "execution_count": 19,
   "metadata": {},
   "outputs": [],
   "source": [
    "DATA_PATH = 'input/'"
   ]
  },
  {
   "cell_type": "markdown",
   "metadata": {},
   "source": [
    "### Load the training dataframe"
   ]
  },
  {
   "cell_type": "code",
   "execution_count": 21,
   "metadata": {},
   "outputs": [],
   "source": [
    "train = pd.read_csv(DATA_PATH + 'train.csv')\n",
    "#sample_submission = pd.read_csv(DATA_PATH + 'sample_submission.csv')"
   ]
  },
  {
   "cell_type": "markdown",
   "metadata": {},
   "source": [
    "### Group data by object category"
   ]
  },
  {
   "cell_type": "code",
   "execution_count": 22,
   "metadata": {},
   "outputs": [
    {
     "name": "stderr",
     "output_type": "stream",
     "text": [
      "100%|██████████| 22680/22680 [00:01<00:00, 19050.36it/s]\n"
     ]
    }
   ],
   "source": [
    "# Taken from https://www.kaggle.com/gaborfodor/eda-3d-object-detection-challenge\n",
    "\n",
    "object_columns = ['sample_id', 'object_id', 'center_x', 'center_y', 'center_z',\n",
    "                  'width', 'length', 'height', 'yaw', 'class_name']\n",
    "objects = []\n",
    "for sample_id, ps in tqdm(train.values[:]):\n",
    "    object_params = ps.split()\n",
    "    n_objects = len(object_params)\n",
    "    for i in range(n_objects // 8):\n",
    "        x, y, z, w, l, h, yaw, c = tuple(object_params[i * 8: (i + 1) * 8])\n",
    "        objects.append([sample_id, i, x, y, z, w, l, h, yaw, c])\n",
    "train_objects = pd.DataFrame(\n",
    "    objects,\n",
    "    columns = object_columns\n",
    ")"
   ]
  },
  {
   "cell_type": "markdown",
   "metadata": {},
   "source": [
    "### Convert numerical features from *str* to *float32*"
   ]
  },
  {
   "cell_type": "code",
   "execution_count": 23,
   "metadata": {},
   "outputs": [],
   "source": [
    "numerical_cols = ['object_id', 'center_x', 'center_y', 'center_z', 'width', 'length', 'height', 'yaw']\n",
    "train_objects[numerical_cols] = np.float32(train_objects[numerical_cols].values)"
   ]
  },
  {
   "cell_type": "code",
   "execution_count": 24,
   "metadata": {},
   "outputs": [
    {
     "data": {
      "text/html": [
       "<div>\n",
       "<style scoped>\n",
       "    .dataframe tbody tr th:only-of-type {\n",
       "        vertical-align: middle;\n",
       "    }\n",
       "\n",
       "    .dataframe tbody tr th {\n",
       "        vertical-align: top;\n",
       "    }\n",
       "\n",
       "    .dataframe thead th {\n",
       "        text-align: right;\n",
       "    }\n",
       "</style>\n",
       "<table border=\"1\" class=\"dataframe\">\n",
       "  <thead>\n",
       "    <tr style=\"text-align: right;\">\n",
       "      <th></th>\n",
       "      <th>sample_id</th>\n",
       "      <th>object_id</th>\n",
       "      <th>center_x</th>\n",
       "      <th>center_y</th>\n",
       "      <th>center_z</th>\n",
       "      <th>width</th>\n",
       "      <th>length</th>\n",
       "      <th>height</th>\n",
       "      <th>yaw</th>\n",
       "      <th>class_name</th>\n",
       "    </tr>\n",
       "  </thead>\n",
       "  <tbody>\n",
       "    <tr>\n",
       "      <td>0</td>\n",
       "      <td>db8b47bd4ebdf3b3fb21598bb41bd8853d12f8d2ef25ce...</td>\n",
       "      <td>0.0</td>\n",
       "      <td>2680.282959</td>\n",
       "      <td>698.196899</td>\n",
       "      <td>-18.047768</td>\n",
       "      <td>2.064</td>\n",
       "      <td>5.488</td>\n",
       "      <td>2.053</td>\n",
       "      <td>2.604164</td>\n",
       "      <td>car</td>\n",
       "    </tr>\n",
       "    <tr>\n",
       "      <td>1</td>\n",
       "      <td>db8b47bd4ebdf3b3fb21598bb41bd8853d12f8d2ef25ce...</td>\n",
       "      <td>1.0</td>\n",
       "      <td>2691.997559</td>\n",
       "      <td>660.801636</td>\n",
       "      <td>-18.674259</td>\n",
       "      <td>1.818</td>\n",
       "      <td>4.570</td>\n",
       "      <td>1.608</td>\n",
       "      <td>-0.335176</td>\n",
       "      <td>car</td>\n",
       "    </tr>\n",
       "    <tr>\n",
       "      <td>2</td>\n",
       "      <td>db8b47bd4ebdf3b3fb21598bb41bd8853d12f8d2ef25ce...</td>\n",
       "      <td>2.0</td>\n",
       "      <td>2713.607422</td>\n",
       "      <td>694.403503</td>\n",
       "      <td>-18.589972</td>\n",
       "      <td>1.779</td>\n",
       "      <td>4.992</td>\n",
       "      <td>1.620</td>\n",
       "      <td>2.579456</td>\n",
       "      <td>car</td>\n",
       "    </tr>\n",
       "    <tr>\n",
       "      <td>3</td>\n",
       "      <td>db8b47bd4ebdf3b3fb21598bb41bd8853d12f8d2ef25ce...</td>\n",
       "      <td>3.0</td>\n",
       "      <td>2679.986816</td>\n",
       "      <td>706.910156</td>\n",
       "      <td>-18.349594</td>\n",
       "      <td>1.798</td>\n",
       "      <td>3.903</td>\n",
       "      <td>1.722</td>\n",
       "      <td>2.586166</td>\n",
       "      <td>car</td>\n",
       "    </tr>\n",
       "    <tr>\n",
       "      <td>4</td>\n",
       "      <td>db8b47bd4ebdf3b3fb21598bb41bd8853d12f8d2ef25ce...</td>\n",
       "      <td>4.0</td>\n",
       "      <td>2659.352051</td>\n",
       "      <td>719.417480</td>\n",
       "      <td>-18.442999</td>\n",
       "      <td>1.936</td>\n",
       "      <td>4.427</td>\n",
       "      <td>1.921</td>\n",
       "      <td>2.601799</td>\n",
       "      <td>car</td>\n",
       "    </tr>\n",
       "  </tbody>\n",
       "</table>\n",
       "</div>"
      ],
      "text/plain": [
       "                                           sample_id  object_id     center_x  \\\n",
       "0  db8b47bd4ebdf3b3fb21598bb41bd8853d12f8d2ef25ce...        0.0  2680.282959   \n",
       "1  db8b47bd4ebdf3b3fb21598bb41bd8853d12f8d2ef25ce...        1.0  2691.997559   \n",
       "2  db8b47bd4ebdf3b3fb21598bb41bd8853d12f8d2ef25ce...        2.0  2713.607422   \n",
       "3  db8b47bd4ebdf3b3fb21598bb41bd8853d12f8d2ef25ce...        3.0  2679.986816   \n",
       "4  db8b47bd4ebdf3b3fb21598bb41bd8853d12f8d2ef25ce...        4.0  2659.352051   \n",
       "\n",
       "     center_y   center_z  width  length  height       yaw class_name  \n",
       "0  698.196899 -18.047768  2.064   5.488   2.053  2.604164        car  \n",
       "1  660.801636 -18.674259  1.818   4.570   1.608 -0.335176        car  \n",
       "2  694.403503 -18.589972  1.779   4.992   1.620  2.579456        car  \n",
       "3  706.910156 -18.349594  1.798   3.903   1.722  2.586166        car  \n",
       "4  719.417480 -18.442999  1.936   4.427   1.921  2.601799        car  "
      ]
     },
     "execution_count": 24,
     "metadata": {},
     "output_type": "execute_result"
    }
   ],
   "source": [
    "train_objects.head()"
   ]
  },
  {
   "cell_type": "markdown",
   "metadata": {},
   "source": [
    "### First Exploration"
   ]
  },
  {
   "cell_type": "markdown",
   "metadata": {},
   "source": [
    "Now, I will explore the data in this particular dataframe and see if I can derive any useful insights from it."
   ]
  },
  {
   "cell_type": "markdown",
   "metadata": {},
   "source": [
    "### center_x and center_y"
   ]
  },
  {
   "cell_type": "markdown",
   "metadata": {},
   "source": [
    "**center_x** and **center_y** correspond to the *x* and *y* coordinates of the center of an object's location (bounding volume). These coordinates represent the location of an object on the *x-y* plane."
   ]
  },
  {
   "cell_type": "markdown",
   "metadata": {},
   "source": [
    "### Distributions of *center_x* and *center_y*"
   ]
  },
  {
   "cell_type": "code",
   "execution_count": 25,
   "metadata": {
    "_kg_hide-input": true
   },
   "outputs": [
    {
     "data": {
      "image/png": "[encoded data removed]",
      "text/plain": [
       "<Figure size 720x720 with 1 Axes>"
      ]
     },
     "metadata": {
      "needs_background": "light"
     },
     "output_type": "display_data"
    }
   ],
   "source": [
    "fig, ax = plt.subplots(figsize=(10, 10))\n",
    "sns.distplot(train_objects['center_x'], color='darkorange', ax=ax).set_title('center_x and center_y', fontsize=16)\n",
    "sns.distplot(train_objects['center_y'], color='purple', ax=ax).set_title('center_x and center_y', fontsize=16)\n",
    "plt.xlabel('center_x and center_y', fontsize=15)\n",
    "plt.show()"
   ]
  },
  {
   "cell_type": "markdown",
   "metadata": {},
   "source": [
    "In the diagram above, the purple distribution is that of *center_y* and the orange distribution is that of *center_x*. From the diagram above, we can see that the distributions of both *center_x* and *center_y* have multiple peaks, and are therefore multimodal. Both distributions also have a clear rightward or positive skew. But, the distribution of *center_y* (purple) has a signficantly higher skew that the the distribution of *center_x* (orange). The *center_x* distribution is more evenly spread out. \n",
    "\n",
    "This indicates that objects are spread out very evenly along the *x-axis*, but not likewise along the *y-axis*. This is probably because the car's camera can sense objects on either left or right easily (along the *x-axis*) due to the width of the road being small. But, since the length of the road is much greater than its width, and there is a higher chance of the camera's view being blocked from this angle, the camera can only find objects narrowly ahead or narrowly behind (and not further away)."
   ]
  },
  {
   "cell_type": "markdown",
   "metadata": {},
   "source": [
    "### Relationship between *center_x* and *center_y*"
   ]
  },
  {
   "cell_type": "markdown",
   "metadata": {},
   "source": [
    "### KDE Plot"
   ]
  },
  {
   "cell_type": "code",
   "execution_count": 26,
   "metadata": {
    "_kg_hide-input": true
   },
   "outputs": [
    {
     "data": {
      "image/png": "[encoded data removed]",
      "text/plain": [
       "<Figure size 432x432 with 3 Axes>"
      ]
     },
     "metadata": {
      "needs_background": "light"
     },
     "output_type": "display_data"
    }
   ],
   "source": [
    "new_train_objects = train_objects.query('class_name == \"car\"')\n",
    "plot = sns.jointplot(x=new_train_objects['center_x'][:1000], y=new_train_objects['center_y'][:1000], kind='kde', color='blueviolet')\n",
    "plot.set_axis_labels('center_x', 'center_y', fontsize=16)\n",
    "plt.show()"
   ]
  },
  {
   "cell_type": "markdown",
   "metadata": {},
   "source": [
    "In the KDE plot above, we can see that *center_x* and *center_y* seem to have a somewhat negative correlation. This is probably, once again, due to the limitations of the camera system. The camera can detect objects that are far ahead, but not too far to the side. And, it can also detect objects that are far to side, but not too far ahead. But, **the camera cannot detect objects that are both far ahead and far to the side**. Because of this, objects that are far ahead and far to the side are not detected at all, and only objects which satisfy one (or none) of those conditions are detected. This results in a negative relationship between *center_x* and *center_y*."
   ]
  },
  {
   "cell_type": "markdown",
   "metadata": {},
   "source": [
    "### center_z"
   ]
  },
  {
   "cell_type": "markdown",
   "metadata": {},
   "source": [
    "**center_z** corresponds to the *xz* coordinate of the center of an object's location (bounding volume). This coordinate represents the height of the object above the *x-y* plane."
   ]
  },
  {
   "cell_type": "markdown",
   "metadata": {},
   "source": [
    "### Distribution of *center_z*"
   ]
  },
  {
   "cell_type": "code",
   "execution_count": 27,
   "metadata": {
    "_kg_hide-input": true
   },
   "outputs": [
    {
     "data": {
      "image/png": "[encoded data removed]",
      "text/plain": [
       "<Figure size 720x720 with 1 Axes>"
      ]
     },
     "metadata": {
      "needs_background": "light"
     },
     "output_type": "display_data"
    }
   ],
   "source": [
    "fig, ax = plt.subplots(figsize=(10, 10))\n",
    "sns.distplot(train_objects['center_z'], color='navy', ax=ax).set_title('center_z', fontsize=16)\n",
    "plt.xlabel('center_z', fontsize=15)\n",
    "plt.show()"
   ]
  },
  {
   "cell_type": "markdown",
   "metadata": {},
   "source": [
    "In the above diagram, we can see that the distribution of *center_z* has an extremely high positive (rightward) skew and is clustered around the -20 mark (which is approximates its mean value). The variation (spread) of *center_z* is significantly smaller than that of *center_x* and *center_y*. This is probably because most objects are very close to the flat plane of the road, and therefore, there is no great variation in the height of the objects above (or below) the camera. There is understandably much greater variation in the *x* and *y* coordiantes of the object.\n",
    "\n",
    "Also, most *z* coordinates are negative because the camera is attached at the top of the car. So, most of the times, the camera has to \"look down\" to see the objects. Therefore, the height or *z*-coordinate of the objects relative to the camera are generally negative."
   ]
  },
  {
   "cell_type": "markdown",
   "metadata": {},
   "source": [
    "### yaw"
   ]
  },
  {
   "cell_type": "markdown",
   "metadata": {},
   "source": [
    "**yaw** is the angle of the volume around the *z*-axis, making 'yaw' the direction the front of the vehicle / bounding box is pointing at while on the ground."
   ]
  },
  {
   "cell_type": "markdown",
   "metadata": {},
   "source": [
    "### Distribution of *yaw*"
   ]
  },
  {
   "cell_type": "code",
   "execution_count": null,
   "metadata": {
    "_kg_hide-input": true
   },
   "outputs": [],
   "source": [
    "fig, ax = plt.subplots(figsize=(10, 10))\n",
    "sns.distplot(train_objects['yaw'], color='darkgreen', ax=ax).set_title('yaw', fontsize=16)\n",
    "plt.xlabel('yaw', fontsize=15)\n",
    "plt.show()"
   ]
  },
  {
   "cell_type": "markdown",
   "metadata": {},
   "source": [
    "In the diagram above, we can see that the distribution of *yaw* is roughly bimodal, *i.e.*, there are two mmajor peaks in the distribution. One of the peaks is around 0.5 and the other is around 2.5. One can estimate that the mean is between 1 and 2 (around 1.5). The distribution does not have any clear skew. The presence of the two peaks at symmetric positions reduces the skew in both directions (and they cancel out), making the distribution more balanced than the distributions of *center_x*, *center_y*, and *center_z*."
   ]
  },
  {
   "cell_type": "markdown",
   "metadata": {},
   "source": [
    "### width"
   ]
  },
  {
   "cell_type": "markdown",
   "metadata": {},
   "source": [
    "**width** is simply the width of the bounding volume in which the object lies."
   ]
  },
  {
   "cell_type": "code",
   "execution_count": null,
   "metadata": {
    "_kg_hide-input": true
   },
   "outputs": [],
   "source": [
    "fig, ax = plt.subplots(figsize=(10, 10))\n",
    "sns.distplot(train_objects['width'], color='magenta', ax=ax).set_title('width', fontsize=16)\n",
    "plt.xlabel('width', fontsize=15)\n",
    "plt.show()"
   ]
  },
  {
   "cell_type": "markdown",
   "metadata": {},
   "source": [
    "In the diagram above, we can see that the *width* is approximately normally distirbuted with a mean of around 2, with some outliers on either side. The majority of the objects are cars (as we will see later), and these constitute a width of around 2 (at the peak). The outliers on the right represent larger objecs like trucks and vans, and the outliers on the left represent smaller objects like pedestrians and bicycles."
   ]
  },
  {
   "cell_type": "markdown",
   "metadata": {},
   "source": [
    "### length"
   ]
  },
  {
   "cell_type": "markdown",
   "metadata": {},
   "source": [
    "**length** is simply the length of the bounding volume in which the object lies."
   ]
  },
  {
   "cell_type": "code",
   "execution_count": null,
   "metadata": {
    "_kg_hide-input": true
   },
   "outputs": [],
   "source": [
    "fig, ax = plt.subplots(figsize=(10, 10))\n",
    "sns.distplot(train_objects['length'], color='crimson', ax=ax).set_title('length', fontsize=16)\n",
    "plt.xlabel('length', fontsize=15)\n",
    "plt.show()"
   ]
  },
  {
   "cell_type": "markdown",
   "metadata": {},
   "source": [
    "In the diagram above, we can see that the *length* has a distribution with a strong positive (rightward skew) with a mean of around 5, with some outliers on either side. The majority of the objects are cars (as we will see later), and these constitute a length of around 5 (at the peak). The outliers on the right represent larger objecs like trucks and vans, and the outliers on the left represent smaller objects like pedestrians and bicycles."
   ]
  },
  {
   "cell_type": "markdown",
   "metadata": {},
   "source": [
    "### height"
   ]
  },
  {
   "cell_type": "markdown",
   "metadata": {},
   "source": [
    "**height** is simply the height of the bounding volume in which the object lies."
   ]
  },
  {
   "cell_type": "code",
   "execution_count": null,
   "metadata": {
    "_kg_hide-input": true
   },
   "outputs": [],
   "source": [
    "fig, ax = plt.subplots(figsize=(10, 10))\n",
    "sns.distplot(train_objects['height'], color='indigo', ax=ax).set_title('height', fontsize=16)\n",
    "plt.xlabel('height', fontsize=15)\n",
    "plt.show()"
   ]
  },
  {
   "cell_type": "markdown",
   "metadata": {},
   "source": [
    "In the diagram above, we can see that the *height* has a distribution with a strong positive (rightward skew) with a mean of around 2, with some outliers on either side. The majority of the objects are cars (as we will see later), and these constitute a length of around 2 (at the peak). The outliers on the right represent larger objecs like trucks and vans, and the outliers on the left represent smaller objects like pedestrians and bicycles."
   ]
  },
  {
   "cell_type": "markdown",
   "metadata": {},
   "source": [
    "### Frequency of object classes"
   ]
  },
  {
   "cell_type": "code",
   "execution_count": null,
   "metadata": {
    "_kg_hide-input": true
   },
   "outputs": [],
   "source": [
    "fig, ax = plt.subplots(figsize=(10, 10))\n",
    "plot = sns.countplot(y=\"class_name\", data=train_objects.query('class_name != \"motorcycle\" and class_name != \"emergency_vehicle\" and class_name != \"animal\"'),\n",
    "                     palette=['navy', 'darkblue', 'blue', 'dodgerblue', 'skyblue', 'lightblue']).set_title('Object Frequencies', fontsize=16)\n",
    "plt.yticks(fontsize=14)\n",
    "plt.xlabel(\"Count\", fontsize=15)\n",
    "plt.ylabel(\"Class Name\", fontsize=15)\n",
    "plt.show(plot)"
   ]
  },
  {
   "cell_type": "markdown",
   "metadata": {},
   "source": [
    "From the above diagram, it can be seen that the most common object class in the dataset is \"car\". This is unsurprising because the images are taken from the streets of Palo Alto in Silicon Valley, California. And, the most common vehicle (or entity for that matter) visible on those roads are cars. All the other object classes are nowhere near cars in terms of frequency."
   ]
  },
  {
   "cell_type": "markdown",
   "metadata": {},
   "source": [
    "### center_x *vs.* class_name"
   ]
  },
  {
   "cell_type": "markdown",
   "metadata": {},
   "source": [
    "In the plots below, I will explore how the distribution of **center_x** changes for different object **class_names**."
   ]
  },
  {
   "cell_type": "code",
   "execution_count": null,
   "metadata": {
    "_kg_hide-input": true
   },
   "outputs": [],
   "source": [
    "fig, ax = plt.subplots(figsize=(15, 15))\n",
    "\n",
    "plot = sns.violinplot(x=\"class_name\", y=\"center_x\",\n",
    "                      data=train_objects.query('class_name != \"motorcycle\" and class_name != \"emergency_vehicle\" and class_name != \"animal\"'),\n",
    "                      palette='YlGnBu',\n",
    "                      split=True, ax=ax).set_title('center_x (for different objects)', fontsize=16)\n",
    "\n",
    "plt.yticks(fontsize=14)\n",
    "plt.xticks(fontsize=14)\n",
    "plt.xlabel(\"Class Name\", fontsize=15)\n",
    "plt.ylabel(\"center_x\", fontsize=15)\n",
    "plt.show(plot)"
   ]
  },
  {
   "cell_type": "markdown",
   "metadata": {},
   "source": [
    "In the violin plots above, we can see that the distributions of *center_x* for large vehicles including trucks, buses, and other vehicles are well spread. They barely have any skew and have greater means than the distributions for pedestrians and bicycles. This is probably because these large vehicles tend to keep greater distances from the other vehicles, and the smaller vehicles do not stay too close to these large vehicles in order to avoid accidents. Therefore, the mean *center_x* is clearly greater for larger vehicles like buses and trucks.\n",
    "\n",
    "Contrastingly, the smaller objects like pedestrians and bicycles have *center_x* distributions with strong positive (rightward) skews. These distributions also have clearly lower means than the distributions for the larger vehicles. This is probably because pedestrians (road-crossers) and bicyclists do not need to maintain large distances with cars and trucks to avoid accidents. They usually cross the road during a red traffic signal, when the traffic halts."
   ]
  },
  {
   "cell_type": "code",
   "execution_count": null,
   "metadata": {
    "_kg_hide-input": true
   },
   "outputs": [],
   "source": [
    "fig, ax = plt.subplots(figsize=(15, 15))\n",
    "\n",
    "plot = sns.boxplot(x=\"class_name\", y=\"center_x\",\n",
    "                   data=train_objects.query('class_name != \"motorcycle\" and class_name != \"emergency_vehicle\" and class_name != \"animal\"'),\n",
    "                   palette='YlGnBu', ax=ax).set_title('center_x (for different objects)', fontsize=16)\n",
    "\n",
    "plt.yticks(fontsize=14)\n",
    "plt.xticks(fontsize=14)\n",
    "plt.xlabel(\"Class Name\", fontsize=15)\n",
    "plt.ylabel(\"center_x\", fontsize=15)\n",
    "plt.show(plot)"
   ]
  },
  {
   "cell_type": "markdown",
   "metadata": {},
   "source": [
    "In the box plots above, we can notice the same observation as in the violin plot above. The *center_x* distributions for smaller objects like pedestrians and bicycles have very low mean and quartile values as compared to larger objects like cars, trucks, and buses."
   ]
  },
  {
   "cell_type": "markdown",
   "metadata": {},
   "source": [
    "### center_y *vs.* class_name"
   ]
  },
  {
   "cell_type": "markdown",
   "metadata": {},
   "source": [
    "In the plots below, I will explore how the distribution of **center_y** changes for different object **class_names**."
   ]
  },
  {
   "cell_type": "code",
   "execution_count": null,
   "metadata": {
    "_kg_hide-input": true
   },
   "outputs": [],
   "source": [
    "fig, ax = plt.subplots(figsize=(15, 15))\n",
    "\n",
    "plot = sns.violinplot(x=\"class_name\", y=\"center_y\",\n",
    "                      data=train_objects.query('class_name != \"motorcycle\" and class_name != \"emergency_vehicle\" and class_name != \"animal\"'),\n",
    "                      palette='YlOrRd',\n",
    "                      split=True, ax=ax).set_title('center_y (for different objects)', fontsize=16)\n",
    "\n",
    "plt.yticks(fontsize=14)\n",
    "plt.xticks(fontsize=14)\n",
    "plt.xlabel(\"Class Name\", fontsize=15)\n",
    "plt.ylabel(\"center_y\", fontsize=15)\n",
    "plt.show(plot)"
   ]
  },
  {
   "cell_type": "markdown",
   "metadata": {},
   "source": [
    "In the violin plots above, we can see that the distributions of *center_y* for small objects including pedestrians and bicycles have a greater mean value than large objects like trucks and buses. The distributions for the small objects have much greater probability density concentrated at higher values of *center_y* as compared to large objects. This signifies that small objects, in general, have greater *center_y* values than large objects. \n",
    "\n",
    "This is probably because the large vehicles tend to be within the field of view of the camera due to their large size. But, smaller objects like bicycles and pedestrians cannot remain in the field of view of the camera when they are too close. Therefore, most pedestrains and bicycles that are detected tend to be far away. This causes the *center_y* to be greater (on average) for small objects as compared to large objects."
   ]
  },
  {
   "cell_type": "code",
   "execution_count": null,
   "metadata": {
    "_kg_hide-input": true
   },
   "outputs": [],
   "source": [
    "fig, ax = plt.subplots(figsize=(15, 15))\n",
    "\n",
    "plot = sns.boxplot(x=\"class_name\", y=\"center_y\",\n",
    "                   data=train_objects.query('class_name != \"motorcycle\" and class_name != \"emergency_vehicle\" and class_name != \"animal\"'),\n",
    "                   palette='YlOrRd', ax=ax).set_title('center_y (for different objects)', fontsize=16)\n",
    "\n",
    "plt.yticks(fontsize=14)\n",
    "plt.xticks(fontsize=14)\n",
    "plt.xlabel(\"Class Name\", fontsize=15)\n",
    "plt.ylabel(\"center_y\", fontsize=15)\n",
    "plt.show(plot)"
   ]
  },
  {
   "cell_type": "markdown",
   "metadata": {},
   "source": [
    "In the box plots above, we can notice the same observation as in the violin plot above. The *center_y* distributions for smaller objects like pedestrians and bicycles have much larger mean and quartile values as compared to larger objects like cars, trucks, and buses."
   ]
  },
  {
   "cell_type": "markdown",
   "metadata": {},
   "source": [
    "### center_z *vs.* class_name"
   ]
  },
  {
   "cell_type": "markdown",
   "metadata": {},
   "source": [
    "In the plots below, I will explore how the distribution of **center_z** changes for different object **class_names**."
   ]
  },
  {
   "cell_type": "code",
   "execution_count": null,
   "metadata": {
    "_kg_hide-input": true
   },
   "outputs": [],
   "source": [
    "fig, ax = plt.subplots(figsize=(15, 15))\n",
    "\n",
    "plot = sns.violinplot(x=\"class_name\", y=\"center_z\",\n",
    "                      data=train_objects.query('class_name != \"motorcycle\" and class_name != \"emergency_vehicle\" and class_name != \"animal\"').query('center_z <= -5'),\n",
    "                      palette='RdPu',\n",
    "                      split=True, ax=ax).set_title('center_z (for different objects)', fontsize=16)\n",
    "\n",
    "plt.yticks(fontsize=14)\n",
    "plt.xticks(fontsize=14)\n",
    "plt.xlabel(\"Class Name\", fontsize=15)\n",
    "plt.ylabel(\"center_z\", fontsize=15)\n",
    "plt.show(plot)"
   ]
  },
  {
   "cell_type": "markdown",
   "metadata": {},
   "source": [
    "In the violin plots above, we can see that the distributions of *center_z* for small objects including pedestrians and bicycles have a significantly smaller mean value than large objects like trucks and buses. The distributions for the small objects have much greater probability density concentrated at lower values of *center_z* as compared to large objects. This signifies that small objects, in general, have smaller *center_y* values than large objects. \n",
    "\n",
    "This is probably because smaller objects like pedestrians and bicycles tend to have a lower height with repsect to the camera. And, on the other hand, larger objects like cars, trucks, and buses tend to have a greater height with respect to the camera."
   ]
  },
  {
   "cell_type": "code",
   "execution_count": null,
   "metadata": {
    "_kg_hide-input": true
   },
   "outputs": [],
   "source": [
    "fig, ax = plt.subplots(figsize=(15, 15))\n",
    "\n",
    "plot = sns.boxplot(x=\"class_name\", y=\"center_z\",\n",
    "                   data=train_objects.query('class_name != \"motorcycle\" and class_name != \"emergency_vehicle\" and class_name != \"animal\"').query('center_z <= -5'),\n",
    "                   palette='RdPu', ax=ax).set_title('center_z (for different objects)', fontsize=16)\n",
    "\n",
    "plt.yticks(fontsize=14)\n",
    "plt.xticks(fontsize=14)\n",
    "plt.xlabel(\"Class Name\", fontsize=15)\n",
    "plt.ylabel(\"center_z\", fontsize=15)\n",
    "plt.show(plot)"
   ]
  },
  {
   "cell_type": "markdown",
   "metadata": {},
   "source": [
    "In the box plots above, we can notice the same observation as in the violin plot above. The *center_z* distributions for smaller objects like pedestrians and bicycles have much smaller mean and quartile values as compared to larger objects like cars, trucks, and buses."
   ]
  },
  {
   "cell_type": "markdown",
   "metadata": {},
   "source": [
    "### width *vs.* class_name"
   ]
  },
  {
   "cell_type": "markdown",
   "metadata": {},
   "source": [
    "In the plots below, I will explore how the distribution of **width** changes for different object **class_names**."
   ]
  },
  {
   "cell_type": "code",
   "execution_count": null,
   "metadata": {
    "_kg_hide-input": true
   },
   "outputs": [],
   "source": [
    "fig, ax = plt.subplots(figsize=(15, 15))\n",
    "\n",
    "plot = sns.violinplot(x=\"class_name\", y=\"width\",\n",
    "                      data=train_objects.query('class_name != \"motorcycle\" and class_name != \"emergency_vehicle\" and class_name != \"animal\"'),\n",
    "                      palette='YlGn',\n",
    "                      split=True, ax=ax).set_title('width (for different objects)', fontsize=16)\n",
    "\n",
    "plt.yticks(fontsize=14)\n",
    "plt.xticks(fontsize=14)\n",
    "plt.xlabel(\"Class Name\", fontsize=15)\n",
    "plt.ylabel(\"width\", fontsize=15)\n",
    "plt.show(plot)"
   ]
  },
  {
   "cell_type": "markdown",
   "metadata": {},
   "source": [
    "In the violin plots, we can clearly see that the *width* distributions for large vehicles like cars, buses, and trucks have much larger means as compared to small objects like pedestrians and bicycles. This is not surprising because trucks, buses, and cars almost always have much greater width than pedestrians and bicycles."
   ]
  },
  {
   "cell_type": "code",
   "execution_count": null,
   "metadata": {
    "_kg_hide-input": true
   },
   "outputs": [],
   "source": [
    "fig, ax = plt.subplots(figsize=(15, 15))\n",
    "\n",
    "plot = sns.boxplot(x=\"class_name\", y=\"width\",\n",
    "                   data=train_objects.query('class_name != \"motorcycle\" and class_name != \"emergency_vehicle\" and class_name != \"animal\"'),\n",
    "                   palette='YlGn', ax=ax).set_title('width (for different objects)', fontsize=16)\n",
    "\n",
    "plt.yticks(fontsize=14)\n",
    "plt.xticks(fontsize=14)\n",
    "plt.xlabel(\"Class Name\", fontsize=15)\n",
    "plt.ylabel(\"width\", fontsize=15)\n",
    "plt.show(plot)"
   ]
  },
  {
   "cell_type": "markdown",
   "metadata": {},
   "source": [
    "In the box plots above, we can notice the same observation as in the violin plot above. The *width* distributions for smaller objects like pedestrians and bicycles have much smaller mean and quartile values as compared to larger objects like cars, trucks, and buses."
   ]
  },
  {
   "cell_type": "markdown",
   "metadata": {},
   "source": [
    "### length *vs.* class_name"
   ]
  },
  {
   "cell_type": "markdown",
   "metadata": {},
   "source": [
    "In the plots below, I will explore how the distribution of **length** changes for different object **class_names**."
   ]
  },
  {
   "cell_type": "code",
   "execution_count": null,
   "metadata": {
    "_kg_hide-input": true
   },
   "outputs": [],
   "source": [
    "fig, ax = plt.subplots(figsize=(15, 15))\n",
    "\n",
    "plot = sns.violinplot(x=\"class_name\", y=\"length\",\n",
    "                      data=train_objects.query('class_name != \"motorcycle\" and class_name != \"emergency_vehicle\" and class_name != \"animal\" and length < 15'),\n",
    "                      palette='Purples',\n",
    "                      split=True, ax=ax).set_title('length (for different objects)', fontsize=16)\n",
    "\n",
    "plt.yticks(fontsize=14)\n",
    "plt.xticks(fontsize=14)\n",
    "plt.xlabel(\"Class Name\", fontsize=15)\n",
    "plt.ylabel(\"length\", fontsize=15)\n",
    "plt.show(plot)"
   ]
  },
  {
   "cell_type": "markdown",
   "metadata": {},
   "source": [
    "In the violin plots, we can clearly see that the *length* distributions for large vehicles like cars, buses, and trucks have much larger means as compared to small objects like pedestrians and bicycles. This is not surprising because trucks, buses, and cars almost always have much greater length than pedestrians and bicycles."
   ]
  },
  {
   "cell_type": "code",
   "execution_count": null,
   "metadata": {
    "_kg_hide-input": true
   },
   "outputs": [],
   "source": [
    "fig, ax = plt.subplots(figsize=(15, 15))\n",
    "\n",
    "plot = sns.boxplot(x=\"class_name\", y=\"length\",\n",
    "                   data=train_objects.query('class_name != \"motorcycle\" and class_name != \"emergency_vehicle\" and class_name != \"animal\" and length < 15'),\n",
    "                   palette='Purples', ax=ax).set_title('length (for different objects)', fontsize=16)\n",
    "\n",
    "plt.yticks(fontsize=14)\n",
    "plt.xticks(fontsize=14)\n",
    "plt.xlabel(\"Class Name\", fontsize=15)\n",
    "plt.ylabel(\"length\", fontsize=15)\n",
    "plt.show(plot)"
   ]
  },
  {
   "cell_type": "markdown",
   "metadata": {},
   "source": [
    "In the box plots above, we can notice the same observation as in the violin plot above. The *length* distributions for smaller objects like pedestrians and bicycles have much smaller mean and quartile values as compared to larger objects like cars, trucks, and buses."
   ]
  },
  {
   "cell_type": "markdown",
   "metadata": {},
   "source": [
    "### height *vs.* class_name"
   ]
  },
  {
   "cell_type": "markdown",
   "metadata": {},
   "source": [
    "In the plots below, I will explore how the distribution of **height** changes for different object **class_names**."
   ]
  },
  {
   "cell_type": "code",
   "execution_count": null,
   "metadata": {
    "_kg_hide-input": true
   },
   "outputs": [],
   "source": [
    "fig, ax = plt.subplots(figsize=(15, 15))\n",
    "\n",
    "plot = sns.violinplot(x=\"class_name\", y=\"height\",\n",
    "                      data=train_objects.query('class_name != \"motorcycle\" and class_name != \"emergency_vehicle\" and class_name != \"animal\" and height < 6'),\n",
    "                      palette='Reds',\n",
    "                      split=True, ax=ax).set_title('height (for different objects)', fontsize=16)\n",
    "\n",
    "plt.yticks(fontsize=14)\n",
    "plt.xticks(fontsize=14)\n",
    "plt.xlabel(\"Class Name\", fontsize=15)\n",
    "plt.ylabel(\"height\", fontsize=15)\n",
    "plt.show(plot)"
   ]
  },
  {
   "cell_type": "markdown",
   "metadata": {},
   "source": [
    "In the violin plots, we can clearly see that the *length* distributions for large vehicles like buses and trucks have much larger means as compared to small objects like pedestrians and bicycles. This is not surprising because trucks and buses almost always have much greater length than pedestrians and bicycles.\n",
    "\n",
    "The only exception to this trend are the cars. They tend to have a similar height to that of pedestrians."
   ]
  },
  {
   "cell_type": "code",
   "execution_count": null,
   "metadata": {
    "_kg_hide-input": true
   },
   "outputs": [],
   "source": [
    "fig, ax = plt.subplots(figsize=(15, 15))\n",
    "\n",
    "plot = sns.boxplot(x=\"class_name\", y=\"height\",\n",
    "                   data=train_objects.query('class_name != \"motorcycle\" and class_name != \"emergency_vehicle\" and class_name != \"animal\" and height < 6'),\n",
    "                   palette='Reds', ax=ax).set_title('height (for different objects)', fontsize=16)\n",
    "\n",
    "plt.yticks(fontsize=14)\n",
    "plt.xticks(fontsize=14)\n",
    "plt.xlabel(\"Class Name\", fontsize=15)\n",
    "plt.ylabel(\"height\", fontsize=15)\n",
    "plt.show(plot)"
   ]
  },
  {
   "cell_type": "markdown",
   "metadata": {},
   "source": [
    "In the box plots above, we can notice the same observation as in the violin plot above. The *height* distributions for smaller objects like pedestrians and bicycles have much smaller mean and quartile values as compared to larger objects like cars, trucks, and buses.\n",
    "\n",
    "Once again, the only exception to this trend are the cars. They tend to have a similar height to that of pedestrians."
   ]
  }
 ],
 "metadata": {
  "kernelspec": {
   "display_name": "Python 3",
   "language": "python",
   "name": "python3"
  },
  "language_info": {
   "codemirror_mode": {
    "name": "ipython",
    "version": 3
   },
   "file_extension": ".py",
   "mimetype": "text/x-python",
   "name": "python",
   "nbconvert_exporter": "python",
   "pygments_lexer": "ipython3",
   "version": "3.7.3"
  }
 },
 "nbformat": 4,
 "nbformat_minor": 1
}
